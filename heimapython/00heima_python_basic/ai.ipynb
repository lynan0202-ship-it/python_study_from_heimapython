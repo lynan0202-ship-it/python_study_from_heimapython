{
 "cells": [
  {
   "metadata": {},
   "cell_type": "raw",
   "source": [
    "使用一个尽量简洁的例子总结以上相关知识点添加详细而通俗的注释\n",
    "\n",
    "\n",
    "使用一个尽量简洁的例子总结以上相关知识点添加详细而通俗的注释\n"
   ],
   "id": "225fb3c58c031445"
  }
 ],
 "metadata": {
  "kernelspec": {
   "display_name": "Python 3",
   "language": "python",
   "name": "python3"
  },
  "language_info": {
   "codemirror_mode": {
    "name": "ipython",
    "version": 2
   },
   "file_extension": ".py",
   "mimetype": "text/x-python",
   "name": "python",
   "nbconvert_exporter": "python",
   "pygments_lexer": "ipython2",
   "version": "2.7.6"
  }
 },
 "nbformat": 4,
 "nbformat_minor": 5
}
